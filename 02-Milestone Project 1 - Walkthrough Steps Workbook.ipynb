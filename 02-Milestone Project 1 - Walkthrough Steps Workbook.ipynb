{
 "cells": [
  {
   "cell_type": "markdown",
   "metadata": {},
   "source": [
    "# Milestone Project 1: Walkthrough Steps Workbook\n",
    "\n",
    "Below is a set of steps for you to follow to try to create the Tic Tac Toe Milestone Project game!"
   ]
  },
  {
   "cell_type": "markdown",
   "metadata": {},
   "source": [
    "#### Some suggested tools before you get started:\n",
    "To take input from a user:\n",
    "\n",
    "    player1 = input(\"Please pick a marker 'X' or 'O'\")\n",
    "    \n",
    "Note that input() takes in a string. If you need an integer value, use\n",
    "\n",
    "    position = int(input('Please enter a number'))\n",
    "    \n",
    "<br>To clear the screen between moves:\n",
    "\n",
    "    from IPython.display import clear_output\n",
    "    clear_output()\n",
    "    \n",
    "Note that clear_output() will only work in jupyter. To clear the screen in other IDEs, consider:\n",
    "\n",
    "    print('\\n'*100)\n",
    "    \n",
    "This scrolls the previous board up out of view. Now on to the program!"
   ]
  },
  {
   "cell_type": "markdown",
   "metadata": {},
   "source": [
    "**Step 1: Write a function that can print out a board. Set up your board as a list, where each index 1-9 corresponds with a number on a number pad, so you get a 3 by 3 board representation.**"
   ]
  },
  {
   "cell_type": "code",
   "execution_count": 2,
   "metadata": {},
   "outputs": [],
   "source": [
    "from IPython.display import clear_output\n",
    "\n",
    "def display_board(board):\n",
    "    \n",
    "    clear_output()\n",
    "    print(board[7]+'|'+board[8]+'|'+board[9])\n",
    "    print('-'+'|'+'-'+'|'+'-')\n",
    "    print(board[4]+'|'+board[5]+'|'+board[6])\n",
    "    print('-'+'|'+'-'+'|'+'-')\n",
    "    print(board[1]+'|'+board[2]+'|'+board[3])\n",
    "    "
   ]
  },
  {
   "cell_type": "markdown",
   "metadata": {},
   "source": [
    "**TEST Step 1:** run your function on a test version of the board list, and make adjustments as necessary"
   ]
  },
  {
   "cell_type": "code",
   "execution_count": null,
   "metadata": {},
   "outputs": [],
   "source": [
    "test_board = ['#','X','X','X','X','X','X','X','X','X']\n",
    "\n",
    "#test_board = [' ']*10\n",
    "display_board(test_board)"
   ]
  },
  {
   "cell_type": "markdown",
   "metadata": {},
   "source": [
    "**Step 2: Write a function that can take in a player input and assign their marker as 'X' or 'O'. Think about using *while* loops to continually ask until you get a correct answer.**"
   ]
  },
  {
   "cell_type": "code",
   "execution_count": 3,
   "metadata": {},
   "outputs": [],
   "source": [
    "def player_input():\n",
    "    \n",
    "    #for player1\n",
    "    \n",
    "    player1 = input(\"Player1 please pick a marker 'X' or 'O'\\n\")\n",
    "    \n",
    "    while player1!='X' and player1!='O':\n",
    "        player1 = input(\"\\nWrong input, Please pick a marker 'X' or 'O' again\\n\")\n",
    "        \n",
    "    \n",
    "    #for player2\n",
    "    \n",
    "    if player1=='X':\n",
    "        player2='O'\n",
    "    elif player1=='O':\n",
    "        player2='X'\n",
    "    \n",
    "    return (player1,player2)"
   ]
  },
  {
   "cell_type": "markdown",
   "metadata": {},
   "source": [
    "**TEST Step 2:** run the function to make sure it returns the desired output"
   ]
  },
  {
   "cell_type": "code",
   "execution_count": null,
   "metadata": {},
   "outputs": [],
   "source": [
    "player1_mark,player2_mark = player_input()\n",
    "player2_mark"
   ]
  },
  {
   "cell_type": "markdown",
   "metadata": {},
   "source": [
    "**Step 3: Write a function that takes in the board list object, a marker ('X' or 'O'), and a desired position (number 1-9) and assigns it to the board.**"
   ]
  },
  {
   "cell_type": "code",
   "execution_count": 4,
   "metadata": {},
   "outputs": [],
   "source": [
    "def place_marker(board, marker, position):\n",
    "    \n",
    "        \n",
    "        board[position]= marker\n",
    "        "
   ]
  },
  {
   "cell_type": "markdown",
   "metadata": {},
   "source": [
    "**TEST Step 3:** run the place marker function using test parameters and display the modified board"
   ]
  },
  {
   "cell_type": "code",
   "execution_count": null,
   "metadata": {},
   "outputs": [],
   "source": [
    "place_marker(test_board,'$',8)\n",
    "display_board(test_board)"
   ]
  },
  {
   "cell_type": "markdown",
   "metadata": {},
   "source": [
    "**Step 4: Write a function that takes in a board and a mark (X or O) and then checks to see if that mark has won. **"
   ]
  },
  {
   "cell_type": "code",
   "execution_count": 5,
   "metadata": {},
   "outputs": [],
   "source": [
    "def win_check(board, mark):\n",
    "    \n",
    "    #check every rows, columns and diagonals for WIN\n",
    "    \n",
    "    for i in range(1,10,3): #rows \n",
    "        if board[i]==mark and board[i+1]==mark and board[i+2]==mark:\n",
    "            return True\n",
    "    \n",
    "    for j in range(1,4): #columns\n",
    "        if board[j]==board[j+3]== board[j+6]==mark:   #with same logic\n",
    "            return True\n",
    "                \n",
    "        #diagnals \n",
    "    if (board[1]==mark and board[5]==mark and board[9]==mark) or (board[3]==mark and board[5]==mark and board[7]==mark):\n",
    "          \n",
    "        return True\n",
    "    \n",
    "    return False\n",
    "        "
   ]
  },
  {
   "cell_type": "markdown",
   "metadata": {},
   "source": [
    "**TEST Step 4:** run the win_check function against our test_board - it should return True"
   ]
  },
  {
   "cell_type": "code",
   "execution_count": null,
   "metadata": {},
   "outputs": [],
   "source": [
    "win_check(test_board,'X')"
   ]
  },
  {
   "cell_type": "markdown",
   "metadata": {},
   "source": [
    "**Step 5: Write a function that uses the random module to randomly decide which player goes first. You may want to lookup random.randint() Return a string of which player went first.**"
   ]
  },
  {
   "cell_type": "code",
   "execution_count": 6,
   "metadata": {},
   "outputs": [],
   "source": [
    "import random\n",
    "\n",
    "def choose_first():    \n",
    "    \n",
    "    firstplayer=random.randint(1,2)\n",
    "    \n",
    "    if firstplayer==1:\n",
    "        return 'player1'\n",
    "    else:\n",
    "        return 'player2'\n",
    " \n"
   ]
  },
  {
   "cell_type": "markdown",
   "metadata": {},
   "source": [
    "**Step 6: Write a function that returns a boolean indicating whether a space on the board is freely available.**"
   ]
  },
  {
   "cell_type": "code",
   "execution_count": 8,
   "metadata": {},
   "outputs": [],
   "source": [
    "def space_check(board, position):\n",
    "    \n",
    "    if board[position]=='X' or board[position]=='O':\n",
    "        return False\n",
    "    else:\n",
    "        return True"
   ]
  },
  {
   "cell_type": "markdown",
   "metadata": {},
   "source": [
    "**Step 7: Write a function that checks if the board is full and returns a boolean value. True if full, False otherwise.**"
   ]
  },
  {
   "cell_type": "code",
   "execution_count": 10,
   "metadata": {},
   "outputs": [],
   "source": [
    "def full_board_check(board):\n",
    "       \n",
    "    for num in range(1,10):\n",
    "        \n",
    "        if board[num]!='X' and board[num]!='O':\n",
    "            \n",
    "            return False\n",
    "        \n",
    "    return True"
   ]
  },
  {
   "cell_type": "markdown",
   "metadata": {},
   "source": [
    "**Step 8: Write a function that asks for a player's next position (as a number 1-9) and then uses the function from step 6 to check if it's a free position. If it is, then return the position for later use.**"
   ]
  },
  {
   "cell_type": "code",
   "execution_count": 9,
   "metadata": {},
   "outputs": [],
   "source": [
    "def player_choice(board):\n",
    "    \n",
    "    position=int(input('Please select your next position between 1 and 9\\t'))\n",
    "    \n",
    "    if not space_check(board,position):\n",
    "        \n",
    "        position=int(input('This is postion is already taken up, Please choose another \\t'))\n",
    "        \n",
    "    return position\n"
   ]
  },
  {
   "cell_type": "markdown",
   "metadata": {},
   "source": [
    "**Step 9: Write a function that asks the player if they want to play again and returns a boolean True if they do want to play again.**"
   ]
  },
  {
   "cell_type": "code",
   "execution_count": 11,
   "metadata": {},
   "outputs": [],
   "source": [
    "def replay():\n",
    "    \n",
    "    if input('Would you like to replay? Enter yes or no\\t')=='yes':\n",
    "        \n",
    "        round_boolean=True\n",
    "        \n",
    "    else:\n",
    "        \n",
    "        round_boolean=False\n",
    "        \n",
    "    return round_boolean"
   ]
  },
  {
   "cell_type": "markdown",
   "metadata": {
    "collapsed": true
   },
   "source": [
    "**Step 10: Here comes the hard part! Use while loops and the functions you've made to run the game!**"
   ]
  },
  {
   "cell_type": "code",
   "execution_count": 18,
   "metadata": {},
   "outputs": [
    {
     "name": "stdout",
     "output_type": "stream",
     "text": [
      "X|O|X\n",
      "-|-|-\n",
      "X|O|O\n",
      "-|-|-\n",
      "O|X|O\n",
      "\n",
      "Tie game!\n",
      "Would you like to replay? Enter yes or no\tno\n"
     ]
    }
   ],
   "source": [
    "    print('Welcome to Tic Tac Toe')\n",
    "    while True:  #loop the entire framework\n",
    "    \n",
    "    \n",
    "        #Setup the game here\n",
    "        \n",
    "        the_board=[' ']*10  #empty board\n",
    "        \n",
    "        player1_mark,player2_mark=player_input() #tag player_mark with 'X' or 'O'\n",
    "        \n",
    "        print(f'player1 chooses {player1_mark}\\n')\n",
    "        \n",
    "        #decise who to go first\n",
    "    \n",
    "        turn = choose_first()   \n",
    "        print(f'{turn} will go first!\\n')        #don't reference it twice\n",
    "        \n",
    "        \n",
    "        #Enquire whether to start the game\n",
    "        \n",
    "        play_game=input('Ready to start the game? Enter yes or no\\n')\n",
    "        \n",
    "        if play_game=='yes':                                        #'yes'\n",
    "            game_on = True\n",
    "        else:\n",
    "            game_on = False\n",
    "        \n",
    "           \n",
    "        \n",
    "        #Game On\n",
    "        while game_on:\n",
    "            \n",
    "             #player1 turn \n",
    "            if turn == 'player1':         #string\n",
    "                 \n",
    "                display_board(the_board)   # display the board to the player\n",
    "                \n",
    "                position=player_choice(the_board)   #choose the next position\n",
    "                \n",
    "                #space check\n",
    "                if space_check(the_board,position): \n",
    "                    place_marker(the_board,player1_mark,position) #place the marker on board\n",
    "                else:\n",
    "                    print('\\nthe position you chose is not available, please choose another one')\n",
    "                \n",
    "                #win check\n",
    "                if win_check(the_board,player1_mark):\n",
    "                    game_on=False\n",
    "                    display_board(the_board)\n",
    "                    print('\\nplayer1 won the game!')\n",
    "                \n",
    "                elif full_board_check(the_board):\n",
    "                    game_on=False\n",
    "                    display_board(the_board)\n",
    "                    print('\\nTie game!')\n",
    "                \n",
    "                turn='player2'         #switch the turn to player2\n",
    "    \n",
    "            elif turn == 'player2':\n",
    "                \n",
    "                display_board(the_board)   # display the board to the player\n",
    "                \n",
    "                position=player_choice(the_board)   #choose the next position\n",
    "                \n",
    "                #space check\n",
    "                if space_check(the_board,position): \n",
    "                    place_marker(the_board,player2_mark,position) #place the marker on board\n",
    "                else:\n",
    "                    print('\\nthe position you chose is not available, please choose another one')\n",
    "                \n",
    "                #win check\n",
    "                if win_check(the_board,player2_mark):\n",
    "                    game_on=False\n",
    "                    display_board(the_board)\n",
    "                    print('\\nplayer2 won the game!')\n",
    "                \n",
    "                elif full_board_check(the_board):\n",
    "                    game_on=False\n",
    "                    display_board(the_board)\n",
    "                    print('\\nTie game!')\n",
    "                \n",
    "                turn='player1'          #switch the turn to player1\n",
    "    \n",
    "        if not replay():\n",
    "            break\n",
    "            "
   ]
  },
  {
   "cell_type": "markdown",
   "metadata": {
    "collapsed": true
   },
   "source": [
    "## Good Job!"
   ]
  },
  {
   "cell_type": "code",
   "execution_count": null,
   "metadata": {},
   "outputs": [],
   "source": []
  }
 ],
 "metadata": {
  "kernelspec": {
   "display_name": "Python 3",
   "language": "python",
   "name": "python3"
  },
  "language_info": {
   "codemirror_mode": {
    "name": "ipython",
    "version": 3
   },
   "file_extension": ".py",
   "mimetype": "text/x-python",
   "name": "python",
   "nbconvert_exporter": "python",
   "pygments_lexer": "ipython3",
   "version": "3.7.3"
  }
 },
 "nbformat": 4,
 "nbformat_minor": 1
}
